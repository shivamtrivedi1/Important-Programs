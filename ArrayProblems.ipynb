{
 "cells": [
  {
   "cell_type": "code",
   "execution_count": 1,
   "id": "3dc12514",
   "metadata": {},
   "outputs": [
    {
     "ename": "SyntaxError",
     "evalue": "invalid syntax (<ipython-input-1-35503060736e>, line 58)",
     "output_type": "error",
     "traceback": [
      "\u001b[1;36m  File \u001b[1;32m\"<ipython-input-1-35503060736e>\"\u001b[1;36m, line \u001b[1;32m58\u001b[0m\n\u001b[1;33m    def SortArray_0_1_2:\u001b[0m\n\u001b[1;37m                       ^\u001b[0m\n\u001b[1;31mSyntaxError\u001b[0m\u001b[1;31m:\u001b[0m invalid syntax\n"
     ]
    }
   ],
   "source": [
    "def SegNegLeft(A):\n",
    "    n=len(A)\n",
    "    i=-1\n",
    "    j=0\n",
    "    while(j<n):\n",
    "        if(A[j]<0):\n",
    "            i+=1\n",
    "            A[i],A[j]=A[j],A[i]\n",
    "        j+=1\n",
    "    return A\n",
    "\n",
    "def ReverseArray(A):\n",
    "    l=0;\n",
    "    r=len(A)-1\n",
    "    while(l<r):\n",
    "        A[l],A[r]=A[r],A[l]\n",
    "        l=l+1\n",
    "        r=r-1\n",
    "    return A\n",
    "\n",
    "def MulNumExceptThatInd(a):\n",
    "    m=1\n",
    "    l=a.copy()\n",
    "    print(l)\n",
    "    for x in a:\n",
    "        m=m*x\n",
    "\n",
    "    for i in range(len(a)):\n",
    "        l[i]=m//l[i]\n",
    "    return l\n",
    " \n",
    "def ContiguousSubArraySum(a,k):\n",
    "    sumdic={} # Key=prefix sum and value=index\n",
    "    csum=0\n",
    "    for i in range(0,len(a)):\n",
    "        csum+=a[i]\n",
    "        if csum==k:\n",
    "            print(\"Required sum is found from 0th index to\",i)\n",
    "            return\n",
    "        if csum-k in sumdic.keys():\n",
    "            print(\"Required sum is present from \",(sumdic[csum-k]+1),\" index to index\",i)\n",
    "            return\n",
    "        sumdic[csum]=i\n",
    "    \n",
    "    print(\"Required sum= \",k,\"is not possible in\",a) \n",
    "    \n",
    "def CountSubArraySum(a,k):\n",
    "    d={0:1}  #key=prefixSum value=count\n",
    "    cnt=0\n",
    "    csum=0\n",
    "    for x in a:\n",
    "        csum+=x;\n",
    "        diff=csum-k    #diff is used to find ways to get desired sum\n",
    "        cnt+=d.get(diff,0)\n",
    "        d[csum]=1+d.get(csum,0)\n",
    "    return cnt;\n",
    "\n",
    "def SortArray_0_1_2(l):\n",
    "    d1={};\n",
    "    for x in l:\n",
    "    if x in d1.keys():\n",
    "        d1[x]+=1;\n",
    "    else:\n",
    "        d1[x]=1\n",
    "    \n",
    "    len1=len(l)\n",
    "    l1=[]\n",
    "    cnt0=d1.get(0,0)\n",
    "    cnt1=d1.get(1,0)\n",
    "    cnt2=d1.get(2,0)\n",
    "    while(cnt0!=0):\n",
    "        l1.append(0)\n",
    "        cnt0=cnt0-1\n",
    "    \n",
    "    while(cnt1!=0):\n",
    "        l1.append(1)\n",
    "        cnt1=cnt1-1\n",
    "    \n",
    "    while(cnt2!=0):\n",
    "        l1.append(2)\n",
    "        cnt2=cnt2-1\n",
    "\n",
    "    return l1;\n",
    "    \n",
    "        \n",
    "        \n",
    "    \n",
    "    "
   ]
  },
  {
   "cell_type": "code",
   "execution_count": 7,
   "id": "94f62933",
   "metadata": {},
   "outputs": [
    {
     "data": {
      "text/plain": [
       "[5, 4, 3, 2, 1]"
      ]
     },
     "execution_count": 7,
     "metadata": {},
     "output_type": "execute_result"
    }
   ],
   "source": [
    "A1=[1,2,3,4,5]\n",
    "ReverseArray(A1)"
   ]
  },
  {
   "cell_type": "code",
   "execution_count": 13,
   "id": "ae106b9a",
   "metadata": {},
   "outputs": [
    {
     "data": {
      "text/plain": [
       "[-1, -2, -7, 4, 5, 3]"
      ]
     },
     "execution_count": 13,
     "metadata": {},
     "output_type": "execute_result"
    }
   ],
   "source": [
    "A2=[-1,3,-2,4,5,-7]\n",
    "SegNegLeft(A2)"
   ]
  },
  {
   "cell_type": "code",
   "execution_count": 33,
   "id": "9b26cdec",
   "metadata": {},
   "outputs": [
    {
     "name": "stdout",
     "output_type": "stream",
     "text": [
      "[1, 2, 3, 4]\n"
     ]
    },
    {
     "data": {
      "text/plain": [
       "[24, 12, 8, 6]"
      ]
     },
     "execution_count": 33,
     "metadata": {},
     "output_type": "execute_result"
    }
   ],
   "source": [
    "a=[1,2,3,4]\n",
    "\n",
    "l=MulNumExceptThatInd(a)\n",
    "l"
   ]
  },
  {
   "cell_type": "code",
   "execution_count": 15,
   "id": "629b1f7b",
   "metadata": {},
   "outputs": [
    {
     "name": "stdout",
     "output_type": "stream",
     "text": [
      "Required sum is present from  2  index to index 3\n"
     ]
    }
   ],
   "source": [
    "a=[10,2,-2,-20,10]\n",
    "k=-22\n",
    "ContiguousSubArraySum(a,k)"
   ]
  },
  {
   "cell_type": "code",
   "execution_count": 3,
   "id": "17589bad",
   "metadata": {},
   "outputs": [
    {
     "name": "stdout",
     "output_type": "stream",
     "text": [
      "3\n"
     ]
    }
   ],
   "source": [
    "print(CountSubArraySum([1,-1,1],1))"
   ]
  },
  {
   "cell_type": "code",
   "execution_count": null,
   "id": "e1fd13bc",
   "metadata": {},
   "outputs": [],
   "source": [
    "l=[1,2,1,0,1,0]\n"
   ]
  }
 ],
 "metadata": {
  "kernelspec": {
   "display_name": "Python 3",
   "language": "python",
   "name": "python3"
  },
  "language_info": {
   "codemirror_mode": {
    "name": "ipython",
    "version": 3
   },
   "file_extension": ".py",
   "mimetype": "text/x-python",
   "name": "python",
   "nbconvert_exporter": "python",
   "pygments_lexer": "ipython3",
   "version": "3.8.3"
  }
 },
 "nbformat": 4,
 "nbformat_minor": 5
}
